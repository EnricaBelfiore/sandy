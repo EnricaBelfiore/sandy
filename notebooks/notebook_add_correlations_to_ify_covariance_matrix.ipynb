{
 "cells": [
  {
   "cell_type": "markdown",
   "id": "d419161b-36b3-4cb7-8e00-d59a49b417f5",
   "metadata": {},
   "source": [
    "# Add correlations to independent fission yield covariance matrix"
   ]
  },
  {
   "cell_type": "code",
   "execution_count": null,
   "id": "80a1decf-fc32-4c39-bf33-7780497a75f2",
   "metadata": {},
   "outputs": [],
   "source": [
    "import numpy as np\n",
    "import pandas as pd"
   ]
  },
  {
   "cell_type": "code",
   "execution_count": null,
   "id": "3adc4dc4-f01e-4f51-85c1-8ecacce54c9f",
   "metadata": {},
   "outputs": [],
   "source": [
    "import matplotlib.pyplot as plt\n",
    "import seaborn as sns\n",
    "sns.set_style(\"whitegrid\")"
   ]
  },
  {
   "cell_type": "code",
   "execution_count": null,
   "id": "10b211cc-57fc-44e5-8065-400b463327ed",
   "metadata": {},
   "outputs": [],
   "source": [
    "%%capture --no-stdout\n",
    "import sandy"
   ]
  },
  {
   "cell_type": "markdown",
   "id": "033e169e-a624-4f07-ade8-c8de33bb326d",
   "metadata": {
    "tags": []
   },
   "source": [
    "## Retrive nuclear data file"
   ]
  },
  {
   "cell_type": "markdown",
   "id": "85f16f81-db32-45a4-af6d-df18bda3874f",
   "metadata": {},
   "source": [
    "First, we define the energy and zam that we want to analyze and for the chosen zam we get the evaluated nuclear data file - in this case U-235 from ENDF/B-VIII.0 - using get_endf6_file:"
   ]
  },
  {
   "cell_type": "code",
   "execution_count": null,
   "id": "e0290fc5-d7bc-4bd9-b708-a4b2a2644fe0",
   "metadata": {},
   "outputs": [],
   "source": [
    "e = 2.53000e-02\n",
    "zam = 922350\n",
    "tape = sandy.get_endf6_file('endfb_80','nfpy', zam)"
   ]
  },
  {
   "cell_type": "markdown",
   "id": "db5cbe07-09e0-4b10-888c-c6ac5d3d1f12",
   "metadata": {},
   "source": [
    "Then we can read the decay data information stored in the ENDF6 file and extract the values of the fission yields and their associated uncertainties:"
   ]
  },
  {
   "cell_type": "code",
   "execution_count": null,
   "id": "db4453a7-9dc7-4d6f-afe9-b34637b02659",
   "metadata": {},
   "outputs": [],
   "source": [
    "nfpy = sandy.Fy.from_endf6(tape)\n",
    "nfpy.data.set_index([\"MAT\",\"MT\", \"ZAM\", \"ZAP\"])"
   ]
  },
  {
   "cell_type": "markdown",
   "id": "85ca6f07-7e70-4727-8cd9-f37a63b17d51",
   "metadata": {
    "tags": []
   },
   "source": [
    "## Obtain covariance matrix  "
   ]
  },
  {
   "cell_type": "markdown",
   "id": "b595c239-86b2-4a68-87c7-8e0d54c1e868",
   "metadata": {},
   "source": [
    "Assuming the uncertaities equal to the standard deviations, we can build the diagonal covariance matrix as follows:"
   ]
  },
  {
   "cell_type": "code",
   "execution_count": null,
   "id": "139bf4ab-4e74-4fba-8e6b-0e7542085cf9",
   "metadata": {},
   "outputs": [],
   "source": [
    "conditions = {'ZAM': zam, \"E\": e}\n",
    "fy_data = nfpy._filters(conditions).data.set_index('ZAP')[['MT', 'DFY']]\n",
    "Vx_prior = fy_data.query('MT==454').DFY\n",
    "Vx_prior = sandy.CategoryCov.from_var(Vx_prior)\n",
    "Vx_prior.data.head()"
   ]
  },
  {
   "cell_type": "markdown",
   "id": "b2332c26-05a9-4ba9-b103-a6945228728d",
   "metadata": {},
   "source": [
    "We want to update the variance matrices of the independent fission yields using the method of generalised least squares (GLS). It is an adjustment technique that states that the information on some prior system parameters can be improved with the addition of newknowledge for which relationships between data and parameters are established. These relationships, or constraints, must be linearised in the form:"
   ]
  },
  {
   "cell_type": "markdown",
   "id": "fb32b38d-dfa7-4017-ac9b-92437337fca0",
   "metadata": {},
   "source": [
    "$$\n",
    "y - y_a = S \\cdot (\\theta -\\theta_a) \n",
    "$$"
   ]
  },
  {
   "cell_type": "markdown",
   "id": "12dd4540-1294-4fdf-a7ac-e19fdbe19346",
   "metadata": {},
   "source": [
    "where $\\theta$ are the parameters of the system, $\\theta_a$ the prior estimates of $\\theta$, $y$ the responses of the constraining  equation,  $y_a$ the responses of the constraining equation to the prior  estimates $\\theta_a$ and S are the sensitivity coefficients of the response $y – y_a$ to the parameters $\\theta – \\theta_a$. "
   ]
  },
  {
   "cell_type": "markdown",
   "id": "a9fcbcd4-3a03-4f3f-9941-4846b600d50d",
   "metadata": {},
   "source": [
    "It is assumed that no correlations existed between the prior and the new information. Then, further information $\\eta$ could be introduced in order to derive refined values for the parameters $\\theta$,  with all the available uncertainty information properly incorporated into the formalism. The updating process is the following:"
   ]
  },
  {
   "cell_type": "markdown",
   "id": "cbd033bf-8633-4bf9-b2ca-75c2a97e166d",
   "metadata": {},
   "source": [
    "$$\n",
    "\\theta - \\theta_a = V_a - S^T \\cdot (S \\cdot V_a \\cdot S^T + V)^{-1} \\cdot (\\eta - y_a)\n",
    "$$"
   ]
  },
  {
   "cell_type": "markdown",
   "id": "cdb37ec7-e48b-4f56-a93a-0680ac8ab9ea",
   "metadata": {},
   "source": [
    "$$\n",
    "V_s = V_a - V_a \\cdot S^T \\cdot \\left(S\\cdot V_a \\cdot S^T + V \\right)^{-1} \\cdot S \\cdot V_a\n",
    "$$"
   ]
  },
  {
   "cell_type": "markdown",
   "id": "c3e775d9-d14e-4460-a690-21215012141d",
   "metadata": {},
   "source": [
    "where $V_a$ is the covariance matrix of the prior estimates of the  parameters $\\theta$, $V$ is the covariance matrix of the introduced data fitting the constraining system $\\eta$, and $V_s$ is the updated  covariance matrix of the system parameters ($\\theta$)."
   ]
  },
  {
   "cell_type": "markdown",
   "id": "55b71bb1-bd92-416a-84d0-181aa1f9ea9d",
   "metadata": {},
   "source": [
    "A more complete overview of the the  followed GLS technique is described in https://doi.org/10.1016/j.anucene.2015.10.027"
   ]
  },
  {
   "cell_type": "markdown",
   "id": "ddf9f593-8c95-4496-92c0-8f34b8063a4b",
   "metadata": {},
   "source": [
    "To perform this updating process we exploit the relationship between the independent fission yield and the $\\textit{chain ﬁssion yield ch(A)}$, which in matrix form is:"
   ]
  },
  {
   "cell_type": "markdown",
   "id": "9ffba35b-20ea-4e82-9573-6d314bf93816",
   "metadata": {},
   "source": [
    "$$\n",
    "D^T \\cdot IFY = Ch \n",
    "$$"
   ]
  },
  {
   "cell_type": "markdown",
   "id": "5cfc4acd-d88a-4361-8557-7914535a089a",
   "metadata": {},
   "source": [
    "The chain fission yield may be confused with the $\\textit{mass ﬁssion yield M(A)}$, indeed the two can differ by a few percent. The design matrix $S$ in this case is $D^T$, while the parameters $\\theta$ are the independent fission yields $IFY$ and the response is the vector with the chain ﬁssion yields $Ch$ "
   ]
  },
  {
   "cell_type": "markdown",
   "id": "a7b2ff14-fdab-467d-9f9f-6296000b2907",
   "metadata": {},
   "source": [
    "By using evaluated chain ﬁssion yields to modify independent ﬁssion yield data, we assume that we have a deeper knowledge on the ﬁrst. This is a consistent assumption since \n",
    "the chain ﬁssion yield and uncertainties are evaluated mostly directly from the measurements while the independent ﬁssion yields are not."
   ]
  },
  {
   "cell_type": "markdown",
   "id": "610dfb54-3ee4-4c95-9794-dadc4acc1792",
   "metadata": {},
   "source": [
    "The extra information for the evaluation of $V$ are obtained from the IAEA document  [Evaluation and Compilation of Fission Product Yields 1993](https://www-nds.iaea.org/endf349/la-ur-94-3106.pdf) (page 18-29)"
   ]
  },
  {
   "cell_type": "markdown",
   "id": "700ddeb2-dcd9-44f8-bfba-87fd7460a99a",
   "metadata": {},
   "source": [
    "In SANDY two options were implemented to retrive the design matrix $D^T$ and both of them are showed in this notebook."
   ]
  },
  {
   "cell_type": "markdown",
   "id": "2480d52d-799c-43d8-8a7e-36491a36143d",
   "metadata": {},
   "source": [
    "- ### First option: `kind='mass yield'`"
   ]
  },
  {
   "cell_type": "markdown",
   "id": "f04081c5-fb76-45c4-91be-1d96909c6ec9",
   "metadata": {},
   "source": [
    "With this option we assume that the chain fission yield is equal to the mass yield, so we don't take into account the delayed neutron emission. All the necessary information to calculate the $D^T$ matrix are stored in the `sandy.Fy` object. For this reason, if the `kind='mass yield'` option is selected, the only extra parameters that we have to pass to the method `sandy.Fy.cov_update()` are the zam and energy chosen for the analysis."
   ]
  },
  {
   "cell_type": "code",
   "execution_count": null,
   "id": "bd70c2ca-e8e2-413d-950a-dcf70933e91e",
   "metadata": {},
   "outputs": [],
   "source": [
    "cov_massyield = nfpy.cov_update(zam, e, kind='mass yield')\n",
    "cov_massyield.data.head()"
   ]
  },
  {
   "cell_type": "markdown",
   "id": "bcc66c36-2cbd-4dc8-98c8-41243069b586",
   "metadata": {},
   "source": [
    "- ### Second option: `kind='chain yield'` "
   ]
  },
  {
   "cell_type": "markdown",
   "id": "d5365de1-8bc1-4f8a-b22c-a730bf2eb91b",
   "metadata": {},
   "source": [
    "With this option we evaluate the $D^T$ matrix which respects the constrain $\\sum_{A_i=A}y(A_i) = ch(A)$. To do so, we also need the information stored in `sandy.DecayData` instance, so it must be passed as further parameter to the `sandy.Fy.cov_update()` method."
   ]
  },
  {
   "cell_type": "code",
   "execution_count": null,
   "id": "9d85956f-7f3f-4454-ac11-be280ff4b246",
   "metadata": {
    "tags": []
   },
   "outputs": [],
   "source": [
    "tape_rdd = sandy.get_endf6_file('endfb_80', 'decay', 'all')"
   ]
  },
  {
   "cell_type": "code",
   "execution_count": null,
   "id": "80403768-823d-4cb8-8e19-3426a3358248",
   "metadata": {},
   "outputs": [],
   "source": [
    "rdd = sandy.DecayData.from_endf6(tape_rdd)"
   ]
  },
  {
   "cell_type": "code",
   "execution_count": null,
   "id": "6b8ee40f-1d62-42a0-9a48-217502974f83",
   "metadata": {
    "tags": []
   },
   "outputs": [],
   "source": [
    "cov_chainyield = nfpy.cov_update(zam, e, kind='chain yield', decay_data=rdd)\n",
    "cov_chainyield.data.head()"
   ]
  },
  {
   "cell_type": "markdown",
   "id": "2c346f0e-7e54-4e57-a863-756692f1a672",
   "metadata": {
    "tags": []
   },
   "source": [
    "## Visual comparison of correlation matrices "
   ]
  },
  {
   "cell_type": "markdown",
   "id": "b7ffb119-d545-4d18-9d60-c6d815cf8a77",
   "metadata": {},
   "source": [
    "A visual comparison of the correlation matrices obtained with the GLS method is showed above. Some nuclides were selected among the zap numbers to have a more clear visualization of the added correlations."
   ]
  },
  {
   "cell_type": "code",
   "execution_count": null,
   "id": "d19e6811-eb85-4d69-b729-f03a4cba456e",
   "metadata": {},
   "outputs": [],
   "source": [
    "zap =pd.Index([\n",
    "    551480,\n",
    "    551490,\n",
    "    561480,\n",
    "    561490,\n",
    "    571480,\n",
    "    571490,\n",
    "    581480,\n",
    "    591480,\n",
    "    591481,\n",
    "    601480,\n",
    "])\n",
    "nuclide = pd.Series(zap.values, index = zap, name=\"ZAP\").to_frame()\n",
    "nuclide['nuclide']= nuclide.ZAP.apply(sandy.zam.zam2latex)\n",
    "nuclide_index = nuclide.nuclide.values\n",
    "cov_my_plot = sandy.CategoryCov(cov_massyield.data.loc[zap, zap].set_index(nuclide_index).T.set_index(nuclide_index))\n",
    "cov_cy_plot = sandy.CategoryCov(cov_chainyield.data.loc[zap, zap].set_index(nuclide_index).T.set_index(nuclide_index))\n",
    "Vx_prior_plot = sandy.CategoryCov(Vx_prior.data.loc[zap, zap].set_index(nuclide_index).T.set_index(nuclide_index))"
   ]
  },
  {
   "cell_type": "code",
   "execution_count": null,
   "id": "e14d9b04-c01e-4811-a0a1-550b26dab51f",
   "metadata": {},
   "outputs": [],
   "source": [
    "fig, axes = plt.subplots(ncols=3, figsize=(17, 5), dpi=100)\n",
    "ax1, ax2 , ax3 = axes\n",
    "\n",
    "sns.heatmap(Vx_prior_plot.get_corr(),  cmap=\"bwr\", vmin=-1, vmax=1, ax=ax1)\n",
    "ax1.set_title(f' From prior covariance matrix of IFY')\n",
    "\n",
    "sns.heatmap(cov_my_plot.get_corr(), cmap=\"bwr\", vmin=-1, vmax=1, ax=ax2)\n",
    "ax2.set_title(f' From GLS update covariance matrix of IFY with `kind=mass yield`')\n",
    "\n",
    "sns.heatmap(cov_cy_plot.get_corr(),  cmap=\"bwr\", vmin=-1, vmax=1, ax=ax3)\n",
    "ax3.set_title(f' From GLS update covariance matrix of IFY with `kind=chain yield`')\n",
    "\n",
    "fig.tight_layout()"
   ]
  },
  {
   "cell_type": "markdown",
   "id": "ee2e139c-b16c-4e15-bf23-42a73f0cd65f",
   "metadata": {},
   "source": [
    "Obtained the covariance matrix, we can go ahead with the sampling procedure. In this notebook we use the updated covariace matrix obtained with the first option but the steps to follow are the same whatever covariance matrix is selected."
   ]
  },
  {
   "cell_type": "markdown",
   "id": "dbb79774-c777-4042-83f5-be6bce182ba6",
   "metadata": {},
   "source": [
    "## Relative covariance matrix"
   ]
  },
  {
   "cell_type": "markdown",
   "id": "f4c85d67-3815-4cba-8331-c79210b71f4d",
   "metadata": {},
   "source": [
    "We prefer to work with relative covariance matrix to be consistent with the covariance matrices stored in the ENDF-6 format. SANDY can work with relative or absolute covariance matrix thanks to the `relative` kwarg option inserted in the `sandy.CategoryCov.sampling()` method. Now we apply the $sandwitch \\ rule$ with the diagonal sensitivity matrix equals to the collection of the best estimates of the fission yields to have the updated relative covariance matrix."
   ]
  },
  {
   "cell_type": "code",
   "execution_count": null,
   "id": "9af390e2-5cc3-4052-81d7-bbd18c0bfa8c",
   "metadata": {},
   "outputs": [],
   "source": [
    "conditions = {'ZAM': zam, \"E\": e, \"MT\": 454}\n",
    "S = np.diag(nfpy._filters(conditions).data.FY)"
   ]
  },
  {
   "cell_type": "code",
   "execution_count": null,
   "id": "935b7534-0af7-4339-a2e0-78c493f3f890",
   "metadata": {},
   "outputs": [],
   "source": [
    "idx = cov_massyield.data.index\n",
    "cov_relative = sandy.CategoryCov(pd.DataFrame(cov_massyield.sandwich(S).data.values, index=idx, columns=idx))\n",
    "cov_relative.data.head()"
   ]
  },
  {
   "cell_type": "markdown",
   "id": "4efcfb1c-e4f8-4ae2-b3b2-4e901bfe408a",
   "metadata": {
    "tags": []
   },
   "source": [
    "## Obtain perturbation coefficient"
   ]
  },
  {
   "cell_type": "code",
   "execution_count": null,
   "id": "317dedb4-7896-47c3-bed4-4c5f43b36d38",
   "metadata": {
    "tags": []
   },
   "outputs": [],
   "source": [
    "nsmp = 500 \n",
    "coeff = cov_relative.sampling(nsmp, pdf='normal', relative=True, tolerance=0)\n",
    "coeff.data.head()"
   ]
  },
  {
   "cell_type": "markdown",
   "id": "1a49b733-fa75-438a-983e-5b53500637e7",
   "metadata": {},
   "source": [
    "## Apply first perturbation coefficient to fission yields"
   ]
  },
  {
   "cell_type": "markdown",
   "id": "97ea341a-f12a-41d8-8b2d-bc0f19a6d329",
   "metadata": {},
   "source": [
    "This step will be iteratively repeted for each perturbation coefficient to obtain nsmp perturbed fission yields. The perturbation coefficients are given as ratio values, e.g., 1.05 for a perturbation of +5%."
   ]
  },
  {
   "cell_type": "code",
   "execution_count": null,
   "id": "917d7197-3374-4f1d-8e67-d3588e80aba2",
   "metadata": {},
   "outputs": [],
   "source": [
    "nfpy_new = nfpy.custom_perturbation(coeff.data.iloc[0,:], zap=list(coeff.data.iloc[0,:].index), e=e, mt=454)"
   ]
  },
  {
   "cell_type": "markdown",
   "id": "670b1bcd-14ad-419c-95c1-016ebacd3f37",
   "metadata": {},
   "source": [
    "## Create an ENDF6 file with the perturbed nuclear data"
   ]
  },
  {
   "cell_type": "code",
   "execution_count": null,
   "id": "31b1c5bb-15fc-4d0c-a42c-a379459628e9",
   "metadata": {},
   "outputs": [],
   "source": [
    "tape_new = nfpy_new.to_endf6(tape)\n",
    "file = tape_new.to_file(\"perturbed_fy\")"
   ]
  }
 ],
 "metadata": {
  "kernelspec": {
   "display_name": "Python3 (sandy-devel)",
   "language": "python",
   "name": "sandy-devel"
  },
  "language_info": {
   "codemirror_mode": {
    "name": "ipython",
    "version": 3
   },
   "file_extension": ".py",
   "mimetype": "text/x-python",
   "name": "python",
   "nbconvert_exporter": "python",
   "pygments_lexer": "ipython3",
   "version": "3.7.12"
  }
 },
 "nbformat": 4,
 "nbformat_minor": 5
}
